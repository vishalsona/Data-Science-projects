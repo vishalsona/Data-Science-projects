{
 "cells": [
  {
   "cell_type": "code",
   "execution_count": 1,
   "metadata": {
    "collapsed": true
   },
   "outputs": [],
   "source": [
    "#We’ll make two variables to represent two different populations: \n",
    "#one a binomially distributed variable with p of 0.2, n=10, and 10000 datapoints (group1),\n",
    "#and another binomially distributed variable with p of 0.5, n=10, and 10000 datapoints (group2).\n",
    "#The true population difference between the two populations is 0.3\n",
    "\n",
    "import numpy as np\n",
    "import pandas as pd\n",
    "import scipy\n",
    "import matplotlib.pyplot as plt\n",
    "%matplotlib inline"
   ]
  },
  {
   "cell_type": "code",
   "execution_count": 2,
   "metadata": {},
   "outputs": [
    {
     "data": {
      "image/png": "[encoded data removed]",
      "text/plain": [
       "<matplotlib.figure.Figure at 0x108cafdd8>"
      ]
     },
     "metadata": {},
     "output_type": "display_data"
    }
   ],
   "source": [
    "# generating two populations\n",
    "pop1 = np.random.binomial(10, .2, 10000)\n",
    "pop2 = np.random.binomial(10, .5, 10000)\n",
    "\n",
    "# make histogram for the two group\n",
    "plt.hist(pop1, alpha = .5, label = 'Popilation 1')\n",
    "plt.hist(pop2, alpha = .5, label = 'Population 2')\n",
    "plt.legend(loc = 'upper right')\n",
    "plt.show()"
   ]
  },
  {
   "cell_type": "markdown",
   "metadata": {},
   "source": [
    "The populations are not normal. Next, take a sample of 100 from each population and plot them."
   ]
  },
  {
   "cell_type": "code",
   "execution_count": 3,
   "metadata": {},
   "outputs": [
    {
     "data": {
      "image/png": "[encoded data removed]",
      "text/plain": [
       "<matplotlib.figure.Figure at 0x110eb2940>"
      ]
     },
     "metadata": {},
     "output_type": "display_data"
    }
   ],
   "source": [
    "sample1 = np.random.choice(pop1, 100, replace = True)\n",
    "sample2 = np.random.choice(pop2, 100, replace = True)\n",
    "\n",
    "# create histogram for samples.\n",
    "plt.hist(sample1, alpha = .5, label = 'Sample 1')\n",
    "plt.hist(sample2, alpha = .5, label = 'Sample 2')\n",
    "plt.legend(loc = 'upper right')\n",
    "plt.show()"
   ]
  },
  {
   "cell_type": "code",
   "execution_count": 4,
   "metadata": {},
   "outputs": [
    {
     "name": "stdout",
     "output_type": "stream",
     "text": [
      " The mean of sample 1 = 2.01\n",
      " The mean od sample 2 = 4.96\n",
      " The standard deviation of sample 1 = 1.3601102896456596\n",
      " The standard deviation of sample 2 = 1.4894294209528696\n",
      "The difference of means = 2.95\n"
     ]
    }
   ],
   "source": [
    "# now calculate the mean and sandard deviation of both the samples.\n",
    "print (\" The mean of sample 1 = {}\".format(sample1.mean()))\n",
    "print (\" The mean od sample 2 = {}\".format(sample2.mean()))\n",
    "print (\" The standard deviation of sample 1 = {}\".format(sample1.std()))\n",
    "print (\" The standard deviation of sample 2 = {}\".format(sample2.std()))\n",
    "\n",
    "# calculate the difference of mean of two sample and print it.\n",
    "\n",
    "diff = sample2.mean() - sample1.mean()\n",
    "print (\"The difference of means = {}\".format(diff))"
   ]
  },
  {
   "cell_type": "markdown",
   "metadata": {},
   "source": [
    "Next, calculate the standard error of the sampling distribution of the difference of the means. First, create an array with the size of each variable and another with the standard deviation of each variable. In this case, the sizes are already known since you provided them earlier, but let’s calculate them anyway."
   ]
  },
  {
   "cell_type": "code",
   "execution_count": 5,
   "metadata": {},
   "outputs": [
    {
     "name": "stdout",
     "output_type": "stream",
     "text": [
      "T-value = 14.625661932796255\n"
     ]
    }
   ],
   "source": [
    "size = np.array([len(sample1), len(sample2)])\n",
    "sd = np.array([sample1.std(), sample2.std()])\n",
    "\n",
    "# The squared standard deviations are divided by the sample size and summed, then we take\n",
    "# the square root of the sum. \n",
    "\n",
    "diff_se = sum(sd ** 2 / size) ** .5\n",
    "\n",
    "#The difference between the means divided by the standard error: T-value.  \n",
    "print (\"T-value = {}\".format(diff/diff_se))"
   ]
  },
  {
   "cell_type": "markdown",
   "metadata": {},
   "source": [
    "Finally, we import the function ttest_ind from scipy.stats, which calculates the t-value for us (called “statistic”) and also provides the probability calculation (called “pvalue”). The t-value we calculated and the t-value given by the function may differ slightly after the hundredth decimal place. This is due to differences of rounding caused by our multiple-step approach to calculating the t-value."
   ]
  },
  {
   "cell_type": "code",
   "execution_count": 6,
   "metadata": {},
   "outputs": [
    {
     "name": "stdout",
     "output_type": "stream",
     "text": [
      "Ttest_indResult(statistic=14.552349882500797, pvalue=4.9846024584208574e-33)\n"
     ]
    }
   ],
   "source": [
    "from scipy.stats import ttest_ind\n",
    "print(ttest_ind(sample2, sample1, equal_var = False))"
   ]
  },
  {
   "cell_type": "markdown",
   "metadata": {
    "collapsed": true
   },
   "source": [
    "## Main part of the drill starts here ##"
   ]
  },
  {
   "cell_type": "markdown",
   "metadata": {},
   "source": [
    "**Task 1:** When sample size is 1000.\n",
    "\n",
    "Increase the size of your samples from 100 to 1000, then calculate the means and standard deviations for your new samples and create histograms for each. Repeat this again, decreasing the size of your samples to 20. What values change, and what remain the same?"
   ]
  },
  {
   "cell_type": "markdown",
   "metadata": {},
   "source": [
    "**Expectatation:** We should not have a big difference to any of the values, because the above solution is reflected due to real difference in the population and not because of the difference in the size of the sample.\n",
    "\n",
    "#### Now calculation below ####\n"
   ]
  },
  {
   "cell_type": "code",
   "execution_count": 7,
   "metadata": {},
   "outputs": [
    {
     "data": {
      "image/png": "[encoded data removed]",
      "text/plain": [
       "<matplotlib.figure.Figure at 0x1144e6668>"
      ]
     },
     "metadata": {},
     "output_type": "display_data"
    }
   ],
   "source": [
    "# will add drill1 to all the variable so that I can avoid getting the old values of the variable by mistake.\n",
    "# increasing the sample size from 100 to 1000\n",
    "sample1_drill1 = np.random.choice(pop1, 1000, replace = True)\n",
    "sample2_drill1 = np.random.choice(pop2, 1000, replace = True)\n",
    "\n",
    "# create histogram for samples.\n",
    "plt.hist(sample1_drill1, alpha = .5, label = 'Sample 1')\n",
    "plt.hist(sample2_drill1, alpha = .5, label = 'Sample 2')\n",
    "plt.legend(loc = 'upper right')\n",
    "plt.show()\n"
   ]
  },
  {
   "cell_type": "code",
   "execution_count": 8,
   "metadata": {},
   "outputs": [
    {
     "name": "stdout",
     "output_type": "stream",
     "text": [
      " The mean of sample 1 = 1.999\n",
      " The mean od sample 2 = 4.965\n",
      " The standard deviation of sample 1 = 1.2533949896181968\n",
      " The standard deviation of sample 2 = 1.513860957948252\n",
      "The difference of means = 2.9659999999999997\n"
     ]
    }
   ],
   "source": [
    "# now calculate the mean and sandard deviation of both the samples.\n",
    "print (\" The mean of sample 1 = {}\".format(sample1_drill1.mean()))\n",
    "print (\" The mean od sample 2 = {}\".format(sample2_drill1.mean()))\n",
    "print (\" The standard deviation of sample 1 = {}\".format(sample1_drill1.std()))\n",
    "print (\" The standard deviation of sample 2 = {}\".format(sample2_drill1.std()))\n",
    "\n",
    "# calculate the difference of mean of two sample and print it.\n",
    "\n",
    "diff_drill1 = sample2_drill1.mean() - sample1_drill1.mean()\n",
    "print (\"The difference of means = {}\".format(diff_drill1))"
   ]
  },
  {
   "cell_type": "code",
   "execution_count": 9,
   "metadata": {},
   "outputs": [
    {
     "name": "stdout",
     "output_type": "stream",
     "text": [
      "T-value = 47.72231432663577\n"
     ]
    }
   ],
   "source": [
    "size_drill1 = np.array([len(sample1_drill1), len(sample2_drill1)])\n",
    "sd_drill1 = np.array([sample1_drill1.std(), sample2_drill1.std()])\n",
    "\n",
    "# The squared standard deviations are divided by the sample size and summed, then we take\n",
    "# the square root of the sum. \n",
    "\n",
    "diff_se_drill1 = sum(sd_drill1 ** 2 / size_drill1) ** .5\n",
    "\n",
    "#The difference between the means divided by the standard error: T-value.  \n",
    "print (\"T-value = {}\".format(diff_drill1/diff_se_drill1))"
   ]
  },
  {
   "cell_type": "code",
   "execution_count": 10,
   "metadata": {},
   "outputs": [
    {
     "name": "stdout",
     "output_type": "stream",
     "text": [
      "Ttest_indResult(statistic=47.69844720119864, pvalue=0.0)\n"
     ]
    }
   ],
   "source": [
    "from scipy.stats import ttest_ind\n",
    "print(ttest_ind(sample2_drill1, sample1_drill1, equal_var = False))"
   ]
  },
  {
   "cell_type": "markdown",
   "metadata": {},
   "source": [
    "**Conclusion:-** _The big difference in the t-value shows that how different two samples are in variance once we change the sample size."
   ]
  },
  {
   "cell_type": "markdown",
   "metadata": {},
   "source": [
    "** Task 1 Repeat** With sample size reduced to 20.\n",
    "\n",
    "**Expectation:** Means and Standard deviation should remain same but the t-value should be reduced with big margin."
   ]
  },
  {
   "cell_type": "code",
   "execution_count": 11,
   "metadata": {},
   "outputs": [
    {
     "data": {
      "image/png": "[encoded data removed]",
      "text/plain": [
       "<matplotlib.figure.Figure at 0x115deccf8>"
      ]
     },
     "metadata": {},
     "output_type": "display_data"
    }
   ],
   "source": [
    "# will add rpt(repeat) to all the variable so that I can avoid getting the old values of the variable by mistake.\n",
    "# increasing the sample size from 100 to 1000\n",
    "sample1_rpt = np.random.choice(pop1, 20, replace = True)\n",
    "sample2_rpt = np.random.choice(pop2, 20, replace = True)\n",
    "\n",
    "# create histogram for samples.\n",
    "plt.hist(sample1_rpt, alpha = .5, label = 'Sample 1')\n",
    "plt.hist(sample2_rpt, alpha = .5, label = 'Sample 2')\n",
    "plt.legend(loc = 'upper right')\n",
    "plt.show()"
   ]
  },
  {
   "cell_type": "code",
   "execution_count": 12,
   "metadata": {},
   "outputs": [
    {
     "name": "stdout",
     "output_type": "stream",
     "text": [
      " The mean of sample 1 = 2.0\n",
      " The mean od sample 2 = 4.65\n",
      " The standard deviation of sample 1 = 1.140175425099138\n",
      " The standard deviation of sample 2 = 1.5898113095584647\n",
      "The difference of means = 2.6500000000000004\n"
     ]
    }
   ],
   "source": [
    "# now calculate the mean and sandard deviation of both the samples.\n",
    "print (\" The mean of sample 1 = {}\".format(sample1_rpt.mean()))\n",
    "print (\" The mean od sample 2 = {}\".format(sample2_rpt.mean()))\n",
    "print (\" The standard deviation of sample 1 = {}\".format(sample1_rpt.std()))\n",
    "print (\" The standard deviation of sample 2 = {}\".format(sample2_rpt.std()))\n",
    "\n",
    "# calculate the difference of mean of two sample and print it.\n",
    "\n",
    "diff_rpt = sample2_rpt.mean() - sample1_rpt.mean()\n",
    "print (\"The difference of means = {}\".format(diff_rpt))"
   ]
  },
  {
   "cell_type": "code",
   "execution_count": 13,
   "metadata": {},
   "outputs": [
    {
     "name": "stdout",
     "output_type": "stream",
     "text": [
      "T-value = 6.057637378338696\n"
     ]
    }
   ],
   "source": [
    "size_rpt = np.array([len(sample1_rpt), len(sample2_rpt)])\n",
    "sd_rpt = np.array([sample1_rpt.std(), sample2_rpt.std()])\n",
    "\n",
    "# The squared standard deviations are divided by the sample size and summed, then we take\n",
    "# the square root of the sum. \n",
    "\n",
    "diff_se_rpt = sum(sd_rpt ** 2 / size_rpt) ** .5\n",
    "\n",
    "#The difference between the means divided by the standard error: T-value.  \n",
    "print (\"T-value = {}\".format(diff_rpt/diff_se_rpt))"
   ]
  },
  {
   "cell_type": "code",
   "execution_count": 14,
   "metadata": {},
   "outputs": [
    {
     "name": "stdout",
     "output_type": "stream",
     "text": [
      "Ttest_indResult(statistic=5.9042545742095012, pvalue=1.0924363899876329e-06)\n"
     ]
    }
   ],
   "source": [
    "from scipy.stats import ttest_ind\n",
    "print(ttest_ind(sample2_rpt, sample1_rpt, equal_var = False))"
   ]
  },
  {
   "cell_type": "markdown",
   "metadata": {},
   "source": [
    "**Conclusion:** As expected there the t-value reduced from 46.71302091673892 to 8.8966032590843085"
   ]
  },
  {
   "cell_type": "markdown",
   "metadata": {},
   "source": [
    "**Task 2** with p value = 0.3\n",
    "\n",
    "Change the population value (p in the NumPy documentation) for pop1 to 0.3, then take new samples and compute the t-statistic and p-value. Then change the population value p for group 1 to 0.4, and do it again. What changes, and why?\n",
    "\n",
    "**Expectation:** The mean, standard deviation for the group 1 should be changed and hence the difference will also change and the standard error should also change. p-value and t-value will also change but will very less margin."
   ]
  },
  {
   "cell_type": "code",
   "execution_count": 15,
   "metadata": {},
   "outputs": [
    {
     "data": {
      "image/png": "[encoded data removed]",
      "text/plain": [
       "<matplotlib.figure.Figure at 0x11624f978>"
      ]
     },
     "metadata": {},
     "output_type": "display_data"
    }
   ],
   "source": [
    "# will add drill2 to all the variable so that I can avoid getting the old values of the variable by mistake.\n",
    "# generating two populations\n",
    "pop1_drill2 = np.random.binomial(10, .3, 10000)\n",
    "pop2_drill2 = np.random.binomial(10, .5, 10000)\n",
    "\n",
    "# make histogram for the two group\n",
    "plt.hist(pop1_drill2, alpha = .5, label = 'Popilation 1')\n",
    "plt.hist(pop2_drill2, alpha = .5, label = 'Population 2')\n",
    "plt.legend(loc = 'upper right')\n",
    "plt.show()"
   ]
  },
  {
   "cell_type": "code",
   "execution_count": 16,
   "metadata": {},
   "outputs": [
    {
     "data": {
      "image/png": "[encoded data removed]",
      "text/plain": [
       "<matplotlib.figure.Figure at 0x1163e6518>"
      ]
     },
     "metadata": {},
     "output_type": "display_data"
    }
   ],
   "source": [
    "sample1_drill2 = np.random.choice(pop1_drill2, 100, replace = True)\n",
    "sample2_drill2 = np.random.choice(pop2_drill2, 100, replace = True)\n",
    "\n",
    "# create histogram for samples.\n",
    "plt.hist(sample1_drill2, alpha = .5, label = 'Sample 1')\n",
    "plt.hist(sample2_drill2, alpha = .5, label = 'Sample 2')\n",
    "plt.legend(loc = 'upper right')\n",
    "plt.show()"
   ]
  },
  {
   "cell_type": "code",
   "execution_count": 17,
   "metadata": {},
   "outputs": [
    {
     "name": "stdout",
     "output_type": "stream",
     "text": [
      " The mean of sample 1 = 2.72\n",
      " The mean od sample 2 = 5.08\n",
      " The standard deviation of sample 1 = 1.3496666255042389\n",
      " The standard deviation of sample 2 = 1.6228370220080635\n",
      "The difference of means = 2.36\n"
     ]
    }
   ],
   "source": [
    "# now calculate the mean and sandard deviation of both the samples.\n",
    "print (\" The mean of sample 1 = {}\".format(sample1_drill2.mean()))\n",
    "print (\" The mean od sample 2 = {}\".format(sample2_drill2.mean()))\n",
    "print (\" The standard deviation of sample 1 = {}\".format(sample1_drill2.std()))\n",
    "print (\" The standard deviation of sample 2 = {}\".format(sample2_drill2.std()))\n",
    "\n",
    "# calculate the difference of mean of two sample and print it.\n",
    "\n",
    "diff_drill2 = sample2_drill2.mean() - sample1_drill2.mean()\n",
    "print (\"The difference of means = {}\".format(diff_drill2))"
   ]
  },
  {
   "cell_type": "code",
   "execution_count": 18,
   "metadata": {},
   "outputs": [
    {
     "name": "stdout",
     "output_type": "stream",
     "text": [
      "T-value = 11.180942152111804\n"
     ]
    }
   ],
   "source": [
    "size_drill2 = np.array([len(sample1_drill2), len(sample2_drill2)])\n",
    "sd_drill2 = np.array([sample1_drill2.std(), sample2_drill2.std()])\n",
    "\n",
    "# The squared standard deviations are divided by the sample size and summed, then we take\n",
    "# the square root of the sum. \n",
    "\n",
    "diff_se_drill2 = sum(sd_drill2 ** 2 / size_drill2) ** .5\n",
    "\n",
    "#The difference between the means divided by the standard error: T-value.  \n",
    "print (\"T-value = {}\".format(diff_drill2/diff_se_drill2))"
   ]
  },
  {
   "cell_type": "code",
   "execution_count": 19,
   "metadata": {},
   "outputs": [
    {
     "name": "stdout",
     "output_type": "stream",
     "text": [
      "Ttest_indResult(statistic=11.124896976367099, pvalue=1.6844309090195443e-22)\n"
     ]
    }
   ],
   "source": [
    "from scipy.stats import ttest_ind\n",
    "print(ttest_ind(sample2_drill2, sample1_drill2, equal_var = False))"
   ]
  },
  {
   "cell_type": "markdown",
   "metadata": {},
   "source": [
    "**Conclusion:** _As expected all the values changed the the difference with having 100 sample is less._"
   ]
  },
  {
   "cell_type": "markdown",
   "metadata": {},
   "source": [
    "**Task 2** with p value = 0.4\n",
    "\n",
    "**Expectation:** The mean, standard deviation for the group 1 should be changed and hence the difference will also change and the standard error should also change. p-value and t-value will also change but will very less margin."
   ]
  },
  {
   "cell_type": "code",
   "execution_count": 20,
   "metadata": {},
   "outputs": [
    {
     "data": {
      "image/png": "[encoded data removed]",
      "text/plain": [
       "<matplotlib.figure.Figure at 0x116383c50>"
      ]
     },
     "metadata": {},
     "output_type": "display_data"
    }
   ],
   "source": [
    "# will add rpt2 to all the variable so that I can avoid getting the old values of the variable by mistake.\n",
    "# generating two populations\n",
    "pop1_rpt2 = np.random.binomial(10, .4, 10000)\n",
    "pop2_rpt2 = np.random.binomial(10, .5, 10000)\n",
    "\n",
    "# make histogram for the two group\n",
    "plt.hist(pop1_rpt2, alpha = .5, label = 'Popilation 1')\n",
    "plt.hist(pop2_rpt2, alpha = .5, label = 'Population 2')\n",
    "plt.legend(loc = 'upper right')\n",
    "plt.show()"
   ]
  },
  {
   "cell_type": "code",
   "execution_count": 21,
   "metadata": {},
   "outputs": [
    {
     "data": {
      "image/png": "[encoded data removed]",
      "text/plain": [
       "<matplotlib.figure.Figure at 0x1162f55f8>"
      ]
     },
     "metadata": {},
     "output_type": "display_data"
    }
   ],
   "source": [
    "sample1_rpt2 = np.random.choice(pop1_rpt2, 100, replace = True)\n",
    "sample2_rpt2 = np.random.choice(pop2_rpt2, 100, replace = True)\n",
    "\n",
    "# create histogram for samples.\n",
    "plt.hist(sample1_rpt2, alpha = .5, label = 'Sample 1')\n",
    "plt.hist(sample2_rpt2, alpha = .5, label = 'Sample 2')\n",
    "plt.legend(loc = 'upper right')\n",
    "plt.show()"
   ]
  },
  {
   "cell_type": "code",
   "execution_count": 22,
   "metadata": {},
   "outputs": [
    {
     "name": "stdout",
     "output_type": "stream",
     "text": [
      " The mean of sample 1 = 4.11\n",
      " The mean od sample 2 = 5.21\n",
      " The standard deviation of sample 1 = 1.4621559424356896\n",
      " The standard deviation of sample 2 = 1.8883590760234135\n",
      "The difference of means = 1.0999999999999996\n"
     ]
    }
   ],
   "source": [
    "# now calculate the mean and sandard deviation of both the samples.\n",
    "print (\" The mean of sample 1 = {}\".format(sample1_rpt2.mean()))\n",
    "print (\" The mean od sample 2 = {}\".format(sample2_rpt2.mean()))\n",
    "print (\" The standard deviation of sample 1 = {}\".format(sample1_rpt2.std()))\n",
    "print (\" The standard deviation of sample 2 = {}\".format(sample2_rpt2.std()))\n",
    "\n",
    "# calculate the difference of mean of two sample and print it.\n",
    "\n",
    "diff_rpt2 = sample2_rpt2.mean() - sample1_rpt2.mean()\n",
    "print (\"The difference of means = {}\".format(diff_rpt2))"
   ]
  },
  {
   "cell_type": "code",
   "execution_count": 23,
   "metadata": {},
   "outputs": [
    {
     "name": "stdout",
     "output_type": "stream",
     "text": [
      "T-value = 4.605857961017383\n"
     ]
    }
   ],
   "source": [
    "size_rpt2 = np.array([len(sample1_rpt2), len(sample2_rpt2)])\n",
    "sd_rpt2 = np.array([sample1_rpt2.std(), sample2_rpt2.std()])\n",
    "\n",
    "# The squared standard deviations are divided by the sample size and summed, then we take\n",
    "# the square root of the sum. \n",
    "\n",
    "diff_se_rpt2 = sum(sd_rpt2 ** 2 / size_rpt2) ** .5\n",
    "\n",
    "#The difference between the means divided by the standard error: T-value.  \n",
    "print (\"T-value = {}\".format(diff_rpt2/diff_se_rpt2))"
   ]
  },
  {
   "cell_type": "code",
   "execution_count": 24,
   "metadata": {},
   "outputs": [
    {
     "name": "stdout",
     "output_type": "stream",
     "text": [
      "Ttest_indResult(statistic=4.5827708083098084, pvalue=8.3879467358415997e-06)\n"
     ]
    }
   ],
   "source": [
    "from scipy.stats import ttest_ind\n",
    "print(ttest_ind(sample2_rpt2, sample1_rpt2, equal_var = False))"
   ]
  },
  {
   "cell_type": "markdown",
   "metadata": {},
   "source": [
    "**Conclusion:** _As expected the difference in variance between the two samples are getting smaller._"
   ]
  },
  {
   "cell_type": "markdown",
   "metadata": {},
   "source": [
    "**Task 3** \n",
    "\n",
    "Change the distribution of your populations from binomial to a distribution of your choice. Do the sample mean values still accurately represent the population values?\n",
    "\n",
    "**Solution** Will use gamma distribution for population.\n",
    "\n",
    "**Expectation** There should be big difference in all the calculations.\n"
   ]
  },
  {
   "cell_type": "code",
   "execution_count": 25,
   "metadata": {},
   "outputs": [
    {
     "data": {
      "image/png": "[encoded data removed]",
      "text/plain": [
       "<matplotlib.figure.Figure at 0x11636dcc0>"
      ]
     },
     "metadata": {},
     "output_type": "display_data"
    }
   ],
   "source": [
    "# will add drill3 to all the variable so that I can avoid getting the old values of the variable by mistake.\n",
    "# generating two populations\n",
    "pop1_drill3 = np.random.gamma(10, .2, 10000)\n",
    "pop2_drill3 = np.random.gamma(10, .5, 10000)\n",
    "\n",
    "# make histogram for the two group\n",
    "plt.hist(pop1_drill3, alpha = .5, label = 'Popilation 1')\n",
    "plt.hist(pop2_drill3, alpha = .5, label = 'Population 2')\n",
    "plt.legend(loc = 'upper right')\n",
    "plt.show()"
   ]
  },
  {
   "cell_type": "code",
   "execution_count": 26,
   "metadata": {},
   "outputs": [
    {
     "data": {
      "image/png": "[encoded data removed]",
      "text/plain": [
       "<matplotlib.figure.Figure at 0x116161940>"
      ]
     },
     "metadata": {},
     "output_type": "display_data"
    }
   ],
   "source": [
    "sample1_drill3 = np.random.choice(pop1_drill3, 100, replace = True)\n",
    "sample2_drill3 = np.random.choice(pop2_drill3, 100, replace = True)\n",
    "\n",
    "# create histogram for samples.\n",
    "plt.hist(sample1_drill3, alpha = .5, label = 'Sample 1')\n",
    "plt.hist(sample2_drill3, alpha = .5, label = 'Sample 2')\n",
    "plt.legend(loc = 'upper right')\n",
    "plt.show()"
   ]
  },
  {
   "cell_type": "code",
   "execution_count": 27,
   "metadata": {},
   "outputs": [
    {
     "name": "stdout",
     "output_type": "stream",
     "text": [
      " The mean of sample 1 = 2.0810613509817886\n",
      " The mean od sample 2 = 5.008403022304608\n",
      " The standard deviation of sample 1 = 0.6434847118714563\n",
      " The standard deviation of sample 2 = 1.4871303738381396\n",
      "The difference of means = 2.9273416713228197\n"
     ]
    }
   ],
   "source": [
    "# now calculate the mean and sandard deviation of both the samples.\n",
    "print (\" The mean of sample 1 = {}\".format(sample1_drill3.mean()))\n",
    "print (\" The mean od sample 2 = {}\".format(sample2_drill3.mean()))\n",
    "print (\" The standard deviation of sample 1 = {}\".format(sample1_drill3.std()))\n",
    "print (\" The standard deviation of sample 2 = {}\".format(sample2_drill3.std()))\n",
    "\n",
    "# calculate the difference of mean of two sample and print it.\n",
    "\n",
    "diff_drill3 = sample2_drill3.mean() - sample1_drill3.mean()\n",
    "print (\"The difference of means = {}\".format(diff_drill3))"
   ]
  },
  {
   "cell_type": "code",
   "execution_count": 28,
   "metadata": {},
   "outputs": [
    {
     "name": "stdout",
     "output_type": "stream",
     "text": [
      "T-value = 18.065779619896382\n"
     ]
    }
   ],
   "source": [
    "size_drill3 = np.array([len(sample1_drill3), len(sample2_drill3)])\n",
    "sd_drill3 = np.array([sample1_drill3.std(), sample2_drill3.std()])\n",
    "\n",
    "# The squared standard deviations are divided by the sample size and summed, then we take\n",
    "# the square root of the sum. \n",
    "\n",
    "diff_se_drill3 = sum(sd_drill3 ** 2 / size_drill3) ** .5\n",
    "\n",
    "#The difference between the means divided by the standard error: T-value.  \n",
    "print (\"T-value = {}\".format(diff_drill3/diff_se_drill3))"
   ]
  },
  {
   "cell_type": "code",
   "execution_count": 29,
   "metadata": {},
   "outputs": [
    {
     "name": "stdout",
     "output_type": "stream",
     "text": [
      "Ttest_indResult(statistic=17.975223763333709, pvalue=1.2985291216129186e-37)\n"
     ]
    }
   ],
   "source": [
    "from scipy.stats import ttest_ind\n",
    "print(ttest_ind(sample2_drill3, sample1_drill3, equal_var = False))"
   ]
  },
  {
   "cell_type": "markdown",
   "metadata": {},
   "source": [
    "**Conclusion:** _I was expecting difference in mean, standrd deviations t-value and p-value. But with gamma distribution both the mean values and t-values were almost same with the value which changed is the p-value. Keeping all the initial values like n=10, p=.2 population size of 10000 and sample size of 100 for group 1 and n=10, p=.5 sample population size of 10000 and sample size of 100 for group 2._"
   ]
  },
  {
   "cell_type": "code",
   "execution_count": null,
   "metadata": {
    "collapsed": true
   },
   "outputs": [],
   "source": []
  }
 ],
 "metadata": {
  "kernelspec": {
   "display_name": "Python 3",
   "language": "python",
   "name": "python3"
  },
  "language_info": {
   "codemirror_mode": {
    "name": "ipython",
    "version": 3
   },
   "file_extension": ".py",
   "mimetype": "text/x-python",
   "name": "python",
   "nbconvert_exporter": "python",
   "pygments_lexer": "ipython3",
   "version": "3.6.1"
  }
 },
 "nbformat": 4,
 "nbformat_minor": 2
}
