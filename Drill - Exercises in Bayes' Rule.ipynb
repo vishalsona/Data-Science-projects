{
 "cells": [
  {
   "cell_type": "markdown",
   "metadata": {},
   "source": [
    "A diagnostic test has a 98% probability of giving a positive result when applied to a person suffering from Thripshaw's Disease, and 10% probability of giving a (false) positive when applied to a non-sufferer. It is estimated that 0.5 % of the population are sufferers. Suppose that the test is now administered to a person whose disease status is unknown. Calculate the probability that the test will:\n",
    "\n",
    "**1)Be positive**\n",
    "    \n",
    "    I would take 0.5% is suffering as given and out of those 98% are suffering from Thripshaw's disease. below is my solution:\n",
    "    say probability of population suffeing 0.5% p(pop) = 0.005 \n",
    "    say probability of test result when applied to sufferer  = .0049\n",
    "    as per Bayes' rule probablity of of person going for test \n",
    "    \n",
    "    p(pt|pop) = (.005*.0049)/[(.0049*.005) + (.0051*.995)]\n",
    "              = 0.00480 = .48%\n",
    "\n",
    "**2)Correctly diagnose a sufferer of Thripshaw's**\n",
    "\n",
    "    From the above we know that .48% people are tested positive = 0.00480\n",
    "    give 98% probability of giving positive result  = .98\n",
    "    as per Bayes' rule\n",
    "    \n",
    "    p(s|pos) = (0.0048 * 0.98)/[(0.98 * 0.0048) + (0.02 * 0.0052)\n",
    "             = 0.9783 = 97.83%   \n",
    "    \n",
    "\n",
    "**3)Correctly identify a non-sufferer of Thripshaw's**\n",
    "\n",
    "    AS per the question above 99.5% of population is not suffering that is probability p(nsp) = .995\n",
    "    10% of false positive i.e. probability = .10\n",
    "    \n",
    "    so as per Bayes' rule the probability of person being identifies as non-sufferer\n",
    "                 = .995*.10/[(.10*.995) + (.90 * .005)]\n",
    "                 = .9567 = 95.67%\n",
    "    \n",
    "**4)Misclassify the person**\n",
    "\n",
    "    probability of misclasify a person \n",
    "                = .10 * .02 /[(.02*.10) + (.98*.90)]\n",
    "                = .0022 = .22%\n",
    "    \n",
    "  _I am not sure about question 2 if the above answer is correct or not. Need to discuss_"
   ]
  },
  {
   "cell_type": "code",
   "execution_count": null,
   "metadata": {
    "collapsed": true
   },
   "outputs": [],
   "source": []
  }
 ],
 "metadata": {
  "kernelspec": {
   "display_name": "Python 3",
   "language": "python",
   "name": "python3"
  },
  "language_info": {
   "codemirror_mode": {
    "name": "ipython",
    "version": 3
   },
   "file_extension": ".py",
   "mimetype": "text/x-python",
   "name": "python",
   "nbconvert_exporter": "python",
   "pygments_lexer": "ipython3",
   "version": "3.6.1"
  }
 },
 "nbformat": 4,
 "nbformat_minor": 2
}
