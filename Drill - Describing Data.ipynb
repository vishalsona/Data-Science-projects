{
 "cells": [
  {
   "cell_type": "markdown",
   "metadata": {},
   "source": [
    "## Describing Data - Drill\n",
    "** This is the solution of the Drill for Unit 3 lesson 1 **\n",
    "\n",
    "**Question:1)** Greg was 14, Marcia was 12, Peter was 11, Jan was 10, Bobby was 8, and Cindy was 6 when they started playing the Brady kids on The Brady Bunch. Cousin Oliver was 8 years old when he joined the show. What are the mean, median, and mode of the kids' ages when they first appeared on the show? What are the variance, standard deviation, and standard error?"
   ]
  },
  {
   "cell_type": "code",
   "execution_count": 2,
   "metadata": {},
   "outputs": [
    {
     "name": "stdout",
     "output_type": "stream",
     "text": [
      "Mean of kid's age is 9.857142857142858\n",
      "Mean of kid's age is 9.857142857142858\n",
      "Median of kid's age is 10.0\n",
      "Median of kid's age is 10\n",
      "Mode of kid's age is 8\n",
      "Variance in kid's age is 6.408163265306122 -> using numpy built in function var()\n",
      "varience of kid's age is 7.476190476190475 -> this is the value of v which will be taken for further calculation\n",
      "Standard deviation of kid's age is 2.734262327610589\n",
      "Standard Deviation of kid's age is 2.734262327610589 -> with ddof=1\n",
      "Standard Deviation of kid's age is 2.531435020952764 -> without ddof=1\n",
      "Standard Error of kid's age is 1.0334540197243192 \n",
      "Standard error of kid's age is 1.0334540197243192 -> using numpy built in functions\n"
     ]
    }
   ],
   "source": [
    "# import all the necessary packages so that the built in function work properly.\n",
    "import pandas as pd\n",
    "import numpy as np\n",
    "import matplotlib.pyplot as plt\n",
    "import statistics as stat\n",
    "%matplotlib inline\n",
    "\n",
    "# creating data frame \n",
    "df = pd.DataFrame() \n",
    "df['names'] = ['Greg','Maria','Peter','Jan','Bobby','Cindy','Cousin']\n",
    "df['age'] = [14,12,11,10,8,6,8]\n",
    "\n",
    "# calculation of mean\n",
    "mean_age = sum(df['age'])/len(df['age'])\n",
    "print (\"Mean of kid's age is {}\".format(mean_age))\n",
    "\n",
    "# calculation of mean using numpy finction\n",
    "print (\"Mean of kid's age is {}\".format(np.mean(df['age'])))\n",
    "\n",
    "# calculatio of median of the kids age\n",
    "print (\"Median of kid's age is {}\".format(np.median(df['age'])))\n",
    "\n",
    "# calculation of median using statistics\n",
    "print (\"Median of kid's age is {}\".format(stat.median(df['age'])))\n",
    "\n",
    "# calculation of mode of the kids age.\n",
    "print (\"Mode of kid's age is {}\".format(stat.mode(df['age'])))\n",
    "\n",
    "# calculation of variance(v_numpy) using numpy built in function var()\n",
    "v_numpy = np.var(df['age'])\n",
    "print (\"Variance in kid's age is {} -> using numpy built in function var()\".format(v_numpy))\n",
    "\n",
    "# calculation of variance(v) using python programming\n",
    "v = sum((df['age']-mean_age) ** 2)/ (len(df['age']) - 1)\n",
    "print (\"varience of kid's age is {} -> this is the value of v which will be taken for further calculation\".format(v))\n",
    "\n",
    "# we will calcualte standard deviation as per the value of v.\n",
    "# calculation of standard deviation(s)\n",
    "s = v ** 0.5\n",
    "print (\"Standard deviation of kid's age is {}\".format(s))\n",
    "\n",
    "# calculation of standard deviation using numpy built in function. if we do not include ddof=1 then there will be\n",
    "# difference in the standard deviation. Just to clarify will print both the values.\n",
    "print (\"Standard Deviation of kid's age is {} -> with ddof=1\".format(np.std(df['age'], ddof=1)))\n",
    "print (\"Standard Deviation of kid's age is {} -> without ddof=1\".format(np.std(df['age'])))\n",
    "\n",
    "# calculation of standard error(se)\n",
    "se = s/(len(df['age']) ** 0.5)\n",
    "print (\"Standard Error of kid's age is {} \".format(se))\n",
    "\n",
    "# calculation of standard error using numpy built in functions\n",
    "se_np = np.std(df['age'], ddof = 1)/np.sqrt(len(df['age']))\n",
    "print (\"Standard error of kid's age is {} -> using numpy built in functions\".format(se_np))\n"
   ]
  },
  {
   "cell_type": "markdown",
   "metadata": {},
   "source": [
    "** Question: 2)**Using these estimates, if you had to choose only one estimate of central tendency and one estimate of variance to describe the data, which would you pick and why?\n",
    "\n",
    "** Answer:**\n",
    "    If I had to choose only one estimate of central tendency I would choose **Mean** as this is the estimate which is useful in other important estimates like varience.\n",
    "    And if I had to choose only one estimate of variance then I would choose \"Variance\" as this is the estimates which provide data scientist with the question **why** there is high variance with the variable we are measuring for the high variances. Low variances are useful for data analysis and decision making as it is near to mass population. "
   ]
  },
  {
   "cell_type": "markdown",
   "metadata": {},
   "source": [
    "** Question:3) **Next, Cindy has a birthday. Update your estimates- what changed, and what didn't?"
   ]
  },
  {
   "cell_type": "code",
   "execution_count": 3,
   "metadata": {},
   "outputs": [
    {
     "name": "stdout",
     "output_type": "stream",
     "text": [
      "Mean of kid's age is 10.0\n",
      "The mean has changed.\n",
      "Median of kid's age is 10.0\n",
      "Median hasn't changed\n",
      "Mode of kid's age is 8\n",
      "Mode hasn't changed\n",
      "varience of kid's age is 6.333333333333333 \n",
      "The variance has changed.\n",
      "Standard deviation of kid's age is 2.516611478423583\n",
      "Standard Error of kid's age is 0.9511897312113418 \n"
     ]
    }
   ],
   "source": [
    "############ Cindy's Age updated##########################\n",
    "\n",
    "# updating Cindy's age to 7 from 6.\n",
    "df['age'] = [14,12,11,10,8,7,8]\n",
    "\n",
    "# calculation of mean\n",
    "mean_age = sum(df['age'])/len(df['age'])\n",
    "print (\"Mean of kid's age is {}\".format(mean_age))\n",
    "print (\"The mean has changed.\")\n",
    "\n",
    "# calculation of median\n",
    "print (\"Median of kid's age is {}\".format(np.median(df['age'])))\n",
    "print (\"Median hasn't changed\")\n",
    "\n",
    "# Calculation of mode\n",
    "print (\"Mode of kid's age is {}\".format(stat.mode(df['age'])))\n",
    "print (\"Mode hasn't changed\")\n",
    "\n",
    "# calculation of variance v\n",
    "v = sum((df['age']-mean_age) ** 2)/ (len(df['age']) - 1)\n",
    "print (\"varience of kid's age is {} \".format(v))\n",
    "print (\"The variance has changed.\")\n",
    "\n",
    "# calculation of standard deviation. The valus of standard deviation(sd) will change as sd is dependend on variance \n",
    "# and variance has changed.\n",
    "# calculation of standard deviation\n",
    "s = v ** 0.5\n",
    "print (\"Standard deviation of kid's age is {}\".format(s))\n",
    "\n",
    "# calculation of standard error\n",
    "se = s/(len(df['age']) ** 0.5)\n",
    "print (\"Standard Error of kid's age is {} \".format(se))"
   ]
  },
  {
   "cell_type": "markdown",
   "metadata": {},
   "source": [
    "### Changed Estimates are below\n",
    "\n",
    "**mean, variance, standard deviation, standard error **\n",
    "\n",
    " _once the Mean has changed other estimates(variance, standard deviation and standard error) has to changed as they are depended on mean estimate._ \n",
    "\n",
    "### unchanged estimates are \n",
    "** Mode and Median**"
   ]
  },
  {
   "cell_type": "markdown",
   "metadata": {},
   "source": [
    "**Question:4)** Nobody likes Cousin Oliver. Maybe the network should have used an even younger actor. Replace Cousin Oliver with 1-year-old Jessica, then recalculate again. Does this change your choice of central tendency or variance estimation methods?"
   ]
  },
  {
   "cell_type": "code",
   "execution_count": 4,
   "metadata": {},
   "outputs": [
    {
     "name": "stdout",
     "output_type": "stream",
     "text": [
      "Mean of kid's age is 9.0\n",
      "Median of kid's age is 10.0\n",
      "The mode is [ 1  7  8 10 11 12 14]\n",
      "varience of kid's age is 18.0 \n",
      "Standard deviation of kid's age is 4.242640687119285\n",
      "Standard Error of kid's age is 1.6035674514745462 \n"
     ]
    }
   ],
   "source": [
    "############ Oliver is replaced by 1 year old Jessica ##########################\n",
    "\n",
    "# updating Data Frame with Jessica and her age\n",
    "df['names'] = ['Greg','Maria','Peter','Jan','Bobby','Cindy','Jessica']\n",
    "df['age'] = [14,12,11,10,8,7,1]\n",
    "\n",
    "# calculation of mean\n",
    "mean_age = sum(df['age'])/len(df['age'])\n",
    "print (\"Mean of kid's age is {}\".format(mean_age))\n",
    "\n",
    "# calculation of median\n",
    "print (\"Median of kid's age is {}\".format(np.median(df['age'])))\n",
    "\n",
    "# Calculation of mode\n",
    "# Generate a list of unique elements along with how often they occur.\n",
    "(values, counts) = np.unique(df['age'], return_counts=True)\n",
    "\n",
    "# The location in the values list of the most-frequently-occurring element.\n",
    "ind = np.argmax(counts)\n",
    "\n",
    "# The most frequent element.\n",
    "print (\"The mode is {}\".format(values))\n",
    "\n",
    "# calculation of variance v\n",
    "v = sum((df['age']-mean_age) ** 2)/ (len(df['age']) - 1)\n",
    "print (\"varience of kid's age is {} \".format(v))\n",
    "\n",
    "# calculation of standard deviation. The valus of standard deviation(sd) will change as sd is dependend on variance \n",
    "# and variance has changed.\n",
    "# calculation of standard deviation\n",
    "s = v ** 0.5\n",
    "print (\"Standard deviation of kid's age is {}\".format(s))\n",
    "\n",
    "# calculation of standard error\n",
    "se = s/(len(df['age']) ** 0.5)\n",
    "print (\"Standard Error of kid's age is {} \".format(se))"
   ]
  },
  {
   "cell_type": "code",
   "execution_count": 5,
   "metadata": {},
   "outputs": [
    {
     "data": {
      "text/html": [
       "<div>\n",
       "<style>\n",
       "    .dataframe thead tr:only-child th {\n",
       "        text-align: right;\n",
       "    }\n",
       "\n",
       "    .dataframe thead th {\n",
       "        text-align: left;\n",
       "    }\n",
       "\n",
       "    .dataframe tbody tr th {\n",
       "        vertical-align: top;\n",
       "    }\n",
       "</style>\n",
       "<table border=\"1\" class=\"dataframe\">\n",
       "  <thead>\n",
       "    <tr style=\"text-align: right;\">\n",
       "      <th></th>\n",
       "      <th>names</th>\n",
       "      <th>age</th>\n",
       "      <th>50th_aniv</th>\n",
       "    </tr>\n",
       "  </thead>\n",
       "  <tbody>\n",
       "    <tr>\n",
       "      <th>0</th>\n",
       "      <td>Greg</td>\n",
       "      <td>14</td>\n",
       "      <td>64</td>\n",
       "    </tr>\n",
       "    <tr>\n",
       "      <th>1</th>\n",
       "      <td>Maria</td>\n",
       "      <td>12</td>\n",
       "      <td>62</td>\n",
       "    </tr>\n",
       "    <tr>\n",
       "      <th>2</th>\n",
       "      <td>Peter</td>\n",
       "      <td>11</td>\n",
       "      <td>61</td>\n",
       "    </tr>\n",
       "    <tr>\n",
       "      <th>3</th>\n",
       "      <td>Jan</td>\n",
       "      <td>10</td>\n",
       "      <td>60</td>\n",
       "    </tr>\n",
       "    <tr>\n",
       "      <th>4</th>\n",
       "      <td>Bobby</td>\n",
       "      <td>8</td>\n",
       "      <td>58</td>\n",
       "    </tr>\n",
       "    <tr>\n",
       "      <th>5</th>\n",
       "      <td>Cindy</td>\n",
       "      <td>7</td>\n",
       "      <td>57</td>\n",
       "    </tr>\n",
       "    <tr>\n",
       "      <th>6</th>\n",
       "      <td>Jessica</td>\n",
       "      <td>1</td>\n",
       "      <td>51</td>\n",
       "    </tr>\n",
       "  </tbody>\n",
       "</table>\n",
       "</div>"
      ],
      "text/plain": [
       "     names  age  50th_aniv\n",
       "0     Greg   14         64\n",
       "1    Maria   12         62\n",
       "2    Peter   11         61\n",
       "3      Jan   10         60\n",
       "4    Bobby    8         58\n",
       "5    Cindy    7         57\n",
       "6  Jessica    1         51"
      ]
     },
     "execution_count": 5,
     "metadata": {},
     "output_type": "execute_result"
    }
   ],
   "source": [
    "########### 50th Anniversy ##########################\n",
    "\n",
    "# getting data frame with the updated age of all the cast.\n",
    "df['50th_aniv'] = df['age'] + 50\n",
    "df\n"
   ]
  },
  {
   "cell_type": "markdown",
   "metadata": {
    "collapsed": true
   },
   "source": [
    "**Quesion:5)** On the 50th anniversary of The Brady Bunch, four different magazines asked their readers whether they were fans of the show. The answers were: TV Guide 20% fans Entertainment Weekly 23% fans Pop Culture Today 17% fans SciPhi Phanatic 5% fans\n",
    "Based on these numbers, what percentage of adult Americans would you estimate were Brady Bunch fans on the 50th anniversary of the show?\n",
    "\n",
    "**Answer**\n",
    "This survey is not accurate and biased as the survey has been completed only with the pepole in the one city and not the whole country.\n",
    "\n",
    "We will take a 10% of standard error as +10 or -10."
   ]
  },
  {
   "cell_type": "code",
   "execution_count": 13,
   "metadata": {},
   "outputs": [
    {
     "data": {
      "text/html": [
       "<div>\n",
       "<style>\n",
       "    .dataframe thead tr:only-child th {\n",
       "        text-align: right;\n",
       "    }\n",
       "\n",
       "    .dataframe thead th {\n",
       "        text-align: left;\n",
       "    }\n",
       "\n",
       "    .dataframe tbody tr th {\n",
       "        vertical-align: top;\n",
       "    }\n",
       "</style>\n",
       "<table border=\"1\" class=\"dataframe\">\n",
       "  <thead>\n",
       "    <tr style=\"text-align: right;\">\n",
       "      <th></th>\n",
       "      <th>fan_%</th>\n",
       "    </tr>\n",
       "  </thead>\n",
       "  <tbody>\n",
       "    <tr>\n",
       "      <th>TV Guid</th>\n",
       "      <td>20</td>\n",
       "    </tr>\n",
       "    <tr>\n",
       "      <th>Entertainment Weekly</th>\n",
       "      <td>23</td>\n",
       "    </tr>\n",
       "    <tr>\n",
       "      <th>Pop Culture Today</th>\n",
       "      <td>17</td>\n",
       "    </tr>\n",
       "    <tr>\n",
       "      <th>SciPhi Phanatic</th>\n",
       "      <td>5</td>\n",
       "    </tr>\n",
       "  </tbody>\n",
       "</table>\n",
       "</div>"
      ],
      "text/plain": [
       "                      fan_%\n",
       "TV Guid                  20\n",
       "Entertainment Weekly     23\n",
       "Pop Culture Today        17\n",
       "SciPhi Phanatic           5"
      ]
     },
     "execution_count": 13,
     "metadata": {},
     "output_type": "execute_result"
    }
   ],
   "source": [
    "fandf = pd.DataFrame([20,23,17,5],['TV Guid','Entertainment Weekly','Pop Culture Today','SciPhi Phanatic'])\n",
    "fandf.columns= ['fan_%']\n",
    "fandf"
   ]
  },
  {
   "cell_type": "code",
   "execution_count": 16,
   "metadata": {},
   "outputs": [
    {
     "name": "stdout",
     "output_type": "stream",
     "text": [
      "6.25\n"
     ]
    }
   ],
   "source": [
    "mean_fan = np.mean(fandf['fan_%'])\n",
    "print(mean_fan - 10)"
   ]
  },
  {
   "cell_type": "markdown",
   "metadata": {},
   "source": [
    "_This 10% is just assumption._"
   ]
  },
  {
   "cell_type": "code",
   "execution_count": null,
   "metadata": {
    "collapsed": true
   },
   "outputs": [],
   "source": []
  }
 ],
 "metadata": {
  "kernelspec": {
   "display_name": "Python 3",
   "language": "python",
   "name": "python3"
  },
  "language_info": {
   "codemirror_mode": {
    "name": "ipython",
    "version": 3
   },
   "file_extension": ".py",
   "mimetype": "text/x-python",
   "name": "python",
   "nbconvert_exporter": "python",
   "pygments_lexer": "ipython3",
   "version": "3.6.1"
  }
 },
 "nbformat": 4,
 "nbformat_minor": 2
}
