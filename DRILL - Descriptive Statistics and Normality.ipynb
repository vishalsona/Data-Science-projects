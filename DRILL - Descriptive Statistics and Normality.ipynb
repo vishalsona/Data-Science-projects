{
 "cells": [
  {
   "cell_type": "code",
   "execution_count": 1,
   "metadata": {},
   "outputs": [],
   "source": [
    "import numpy as np\n",
    "import pandas as pd\n",
    "import matplotlib.pyplot as plt\n",
    "%matplotlib inline"
   ]
  },
  {
   "cell_type": "markdown",
   "metadata": {},
   "source": [
    "### F-distribution ###\n",
    "In probability theory and statistics, the F-distribution, also known as Snedecor's F distribution or the Fisher–Snedecor distribution (after Ronald Fisher and George W. Snedecor) is a continuous probability distribution that arises frequently as the null distribution of a test statistic, most notably in the analysis of variance, e.g., F-test.\n",
    "\n",
    "Samples are drawn from an F distribution with specified parameters, dfnum (degrees of freedom in numerator) and dfden (degrees of freedom in denominator), where both parameters should be greater than zero.\n",
    "\n",
    "**Notes:-** \n",
    "The F statistic is used to compare in-group variances to between-group variances. Calculating the distribution depends on the sampling, and so it is a function of the respective degrees of freedom in the problem. The variable dfnum is the number of samples minus one, the between-groups degrees of freedom, while dfden is the within-groups degrees of freedom, the sum of the number of samples in each group minus the number of groups."
   ]
  },
  {
   "cell_type": "code",
   "execution_count": 2,
   "metadata": {},
   "outputs": [
    {
     "data": {
      "image/png": "[encoded data removed]",
      "text/plain": [
       "<matplotlib.figure.Figure at 0x1045f7240>"
      ]
     },
     "metadata": {},
     "output_type": "display_data"
    }
   ],
   "source": [
    "# F distribution with 100 data points. considering 2 samples each of 50 data points.\n",
    "F_distribution  = np.random.f(1,48,100)\n",
    "\n",
    "# plot histogram for F distributiom\n",
    "plt.hist(F_distribution, color = 'c')\n",
    "\n",
    "# adding a vertical line at the mean of the distribution\n",
    "plt.axvline(F_distribution.mean(), color = 'b', linestyle = 'solid', linewidth = 2 )\n",
    "\n",
    "# adding a vertical line one standard deviation above the mean\n",
    "plt.axvline(F_distribution.mean() + F_distribution.std(), color ='b', linestyle='dashed', linewidth = 2)\n",
    "\n",
    "# adding a verical line one sandard deviation below the mean\n",
    "plt.axvline(F_distribution.mean() - F_distribution.std(), color ='b', linestyle='dashed', linewidth = 2)\n",
    "\n",
    "# print histogram\n",
    "plt.show()\n"
   ]
  },
  {
   "cell_type": "markdown",
   "metadata": {},
   "source": [
    "**Conclusion:-** _The mean is not near the center of cluster data. Standard deviation data are not equally distributed on both side of the mean as seen in the above graph._ **Skewed Distribution**"
   ]
  },
  {
   "cell_type": "markdown",
   "metadata": {},
   "source": [
    "### Hypergeometric distribution ###\n",
    "In probability theory and statistics, the hypergeometric distribution is a discrete probability distribution that describes the probability of k successes in n draws, without replacement, from a finite population of size N that contains exactly K successes, wherein each draw is either a success or a failure. In contrast, the binomial distribution describes the probability of k successes in n draws with replacement.\n",
    "\n",
    "In statistics, the hypergeometric test uses the hypergeometric distribution to calculate the statistical significance of having drawn a specific k successes (out of n total draws) from the aforementioned population. The test is often used to identify which sub-populations are over- or under-represented in a sample. This test has a wide range of applications. For example, a marketing group could use the test to understand their customer base by testing a set of unknown customers for over-representation of various demographic subgroups (e.g., women, people under 30)."
   ]
  },
  {
   "cell_type": "code",
   "execution_count": 3,
   "metadata": {},
   "outputs": [
    {
     "data": {
      "image/png": "[encoded data removed]",
      "text/plain": [
       "<matplotlib.figure.Figure at 0x110b7a0b8>"
      ]
     },
     "metadata": {},
     "output_type": "display_data"
    }
   ],
   "source": [
    "# hypergeometric with 100 datapoints.\n",
    "hypergeometric = np.random.hypergeometric(15,15,15,100)\n",
    "\n",
    "# creating a histogram for the hypergeometric\n",
    "plt.hist(hypergeometric)\n",
    "\n",
    "#adding a vertical line of mean for the distribution\n",
    "plt.axvline(hypergeometric.mean(), color='r', linestyle = 'solid', linewidth = 2)\n",
    "\n",
    "# Adding a vertical line at one standard deviation above the mean.\n",
    "plt.axvline(hypergeometric.mean() + hypergeometric.std(), color = 'r', linestyle = 'dashed', linewidth = 2)\n",
    "\n",
    "# Adding a vertical line at one standard deviation below the mean.\n",
    "plt.axvline(hypergeometric.mean() - hypergeometric.std(), color = 'r', linestyle = 'dashed', linewidth = 2)\n",
    "\n",
    "# print histogram\n",
    "plt.show()\n"
   ]
  },
  {
   "cell_type": "markdown",
   "metadata": {},
   "source": [
    "**Conclusion:- **_The above graph shows that mean is near the center of cluster data, but the standrd deviation is not equally distributed to both side of the mean._ "
   ]
  },
  {
   "cell_type": "markdown",
   "metadata": {},
   "source": [
    "### Multinomial distribution ###\n",
    "The multinomial distribution is a multivariate generalisation of the binomial distribution. Take an experiment with one of p possible outcomes. An example of such an experiment is throwing a dice, where the outcome can be 1 through 6. Each sample drawn from the distribution represents n such experiments. Its values, X_i = [X_0, X_1, ..., X_p], represent the number of times the outcome was i."
   ]
  },
  {
   "cell_type": "code",
   "execution_count": 4,
   "metadata": {
    "scrolled": true
   },
   "outputs": [
    {
     "data": {
      "image/png": "[encoded data removed]",
      "text/plain": [
       "<matplotlib.figure.Figure at 0x110cbc7b8>"
      ]
     },
     "metadata": {},
     "output_type": "display_data"
    }
   ],
   "source": [
    "# Generate the multinominal distribution with n=20, p = 1/6 and data point 100.\n",
    "multinomial = np.random.multinomial(20, [1/6]*6, 100)\n",
    "\n",
    "# creating histogram for the numtinominal \n",
    "plt.hist(multinomial)\n",
    "\n",
    "# adding a vertical line of mean for the distribution\n",
    "plt.axvline(multinomial.mean(), color = 'black', linestyle = 'solid', linewidth = 2)\n",
    "\n",
    "# adding a vertical line one standard deviation above the mean\n",
    "plt.axvline(multinomial.mean() + multinomial.std(), color ='black', linestyle='dashed', linewidth = 2)\n",
    "\n",
    "# adding a vertical line one standard deviation below the mean\n",
    "plt.axvline(multinomial.mean() - multinomial.std(), color ='black', linestyle='dashed', linewidth = 2)\n",
    "\n",
    "#print histogram\n",
    "plt.show()"
   ]
  },
  {
   "cell_type": "markdown",
   "metadata": {},
   "source": [
    "_Not sure of this graph. It looks that the mean is in the center of the cluster and the both side of mean has mostly equal distribution._"
   ]
  },
  {
   "cell_type": "markdown",
   "metadata": {},
   "source": [
    "### Uniform distribution ###\n",
    "\n",
    "Samples are uniformly distributed over the half-open interval [low, high) (includes low, but excludes high). In other words, any value within the given interval is equally likely to be drawn by uniform.\n",
    "\n",
    "When high == low, values of low will be returned. If high < low, the results are officially undefined and may eventually raise an error, i.e. do not rely on this function to behave when passed arguments satisfying that inequality condition."
   ]
  },
  {
   "cell_type": "code",
   "execution_count": 5,
   "metadata": {},
   "outputs": [
    {
     "data": {
      "image/png": "[encoded data removed]",
      "text/plain": [
       "<matplotlib.figure.Figure at 0x10d76cf60>"
      ]
     },
     "metadata": {},
     "output_type": "display_data"
    }
   ],
   "source": [
    "# generate uniform distribution with low  = -1 and high =0 with 100 data points.\n",
    "uniform = np.random.uniform(-1,0,100)\n",
    "\n",
    "# creating a histogram for uniform\n",
    "plt.hist(uniform, color = 'purple')\n",
    "\n",
    "# adding a vertical line of mean for the distribution\n",
    "plt.axvline(uniform.mean(), color = 'green', linestyle = 'solid', linewidth = 2)\n",
    "\n",
    "# adding a vertical line one standard deviation above the mean\n",
    "plt.axvline(uniform.mean() + uniform.std(), color ='green', linestyle='dashed', linewidth = 2)\n",
    "\n",
    "# adding a vertical line one standard deviation below the mean\n",
    "plt.axvline(uniform.mean() - uniform.std(), color ='green', linestyle='dashed', linewidth = 2)\n",
    "\n",
    "#print histogram\n",
    "plt.show()"
   ]
  },
  {
   "cell_type": "markdown",
   "metadata": {},
   "source": [
    "**Conclusion:-** _The above graph shows that the mean is near the cluster and the distribution of standard deviation on both side looks equal._"
   ]
  },
  {
   "cell_type": "markdown",
   "metadata": {},
   "source": [
    "### Chi-Square distribution ###\n",
    "\n",
    "When _df_ independent random variables, each with standard normal distributions (mean 0, variance 1), are squared and summed, the resulting distribution is chi-square. This distribution is often used in hypothesis testing."
   ]
  },
  {
   "cell_type": "code",
   "execution_count": 6,
   "metadata": {},
   "outputs": [
    {
     "data": {
      "image/png": "[encoded data removed]",
      "text/plain": [
       "<matplotlib.figure.Figure at 0x110c2c6a0>"
      ]
     },
     "metadata": {},
     "output_type": "display_data"
    }
   ],
   "source": [
    "# Generate the chisqare distribution with 100 data points.\n",
    "chisquare = np.random.chisquare(1,100)\n",
    "\n",
    "#creating a hist of chisquare\n",
    "plt.hist(chisquare)\n",
    "\n",
    "# adding a vertical line of mean for the distribution\n",
    "plt.axvline(chisquare.mean(), color = 'red', linestyle = 'solid', linewidth = 2)\n",
    "\n",
    "# adding a vertical line one standard deviation above the mean\n",
    "plt.axvline(chisquare.mean() + chisquare.std(), color ='red', linestyle='dashed', linewidth = 2)\n",
    "\n",
    "# adding a vertical line one standard deviation below the mean\n",
    "plt.axvline(chisquare.mean() - chisquare.std(), color ='red', linestyle='dashed', linewidth = 2)\n",
    "\n",
    "#print hist\n",
    "plt.show()"
   ]
  },
  {
   "cell_type": "markdown",
   "metadata": {},
   "source": [
    "**Conclusion:-** _The above graph shows that the mean is near the cluster but the distribution is not even._"
   ]
  },
  {
   "cell_type": "markdown",
   "metadata": {},
   "source": [
    "### zipf distribution ###\n",
    "\n",
    "zipf(a, _size = None_)\n",
    "\n",
    "Samples are drawn from a Zipf distribution with specified parameter a > 1.\n",
    "\n",
    "The Zipf distribution (also known as the zeta distribution) is a continuous probability distribution that satisfies Zipf’s law: the frequency of an item is inversely proportional to its rank in a frequency table.\n",
    "\n",
    "It is named for the American linguist George Kingsley Zipf, who noted that the frequency of any word in a sample of a language is inversely proportional to its rank in the frequency table."
   ]
  },
  {
   "cell_type": "code",
   "execution_count": 7,
   "metadata": {},
   "outputs": [
    {
     "data": {
      "image/png": "[encoded data removed]",
      "text/plain": [
       "<matplotlib.figure.Figure at 0x110e56ba8>"
      ]
     },
     "metadata": {},
     "output_type": "display_data"
    }
   ],
   "source": [
    "# Generate the zipf distribution with 100 data points\n",
    "zipf = np.random.zipf(2, 100)\n",
    "\n",
    "# create histogram of zipf\n",
    "plt.hist(zipf)\n",
    "\n",
    "# adding a vertical line of mean for the distribution\n",
    "plt.axvline(zipf.mean(), color = 'c', linestyle = 'solid', linewidth = 2)\n",
    "\n",
    "# adding a vertical line one standard deviation above the mean\n",
    "plt.axvline(zipf.mean() + zipf.std(), color ='b', linestyle='dashed', linewidth = 2)\n",
    "\n",
    "# adding a vertical line one standard deviation below the mean\n",
    "plt.axvline(zipf.mean() - zipf.std(), color ='b', linestyle='dashed', linewidth = 2)\n",
    "\n",
    "#print the histogram\n",
    "plt.show()"
   ]
  },
  {
   "cell_type": "markdown",
   "metadata": {},
   "source": [
    "**Conclusion:-** _The above graph shows that the mean is near the cluster but the distribution is not even._"
   ]
  },
  {
   "cell_type": "markdown",
   "metadata": {},
   "source": [
    "## Additionally: Section of the drill ##"
   ]
  },
  {
   "cell_type": "code",
   "execution_count": 8,
   "metadata": {},
   "outputs": [
    {
     "data": {
      "image/png": "[encoded data removed]",
      "text/plain": [
       "<matplotlib.figure.Figure at 0x1111ca5c0>"
      ]
     },
     "metadata": {},
     "output_type": "display_data"
    }
   ],
   "source": [
    "# crreating two normally distributed variables with the given mean and standard deviation.\n",
    "mean1 = 5\n",
    "mean2 = 10\n",
    "sd1 = .5\n",
    "sd2 = 1\n",
    "\n",
    "df1 = pd.DataFrame({'rand1': np.random.normal(mean1, sd1, 100)})\n",
    "df2 = pd.DataFrame({'rand2': np.random.normal(mean2, sd2, 100)})\n",
    "\n",
    "# creating the third variable using by adding the other two variables.\n",
    "df = pd.DataFrame()\n",
    "df['rand'] = df1['rand1'] + df2['rand2']\n",
    "\n",
    "# Creating a histogram for the varible df\n",
    "df.hist()\n",
    "\n",
    "# adding a vertical line at the mean for the distribution\n",
    "plt.axvline(df['rand'].mean(), color = 'red', linestyle = 'solid', linewidth = 2)\n",
    "\n",
    "# adding a vertical line one standard deviation above the mean.\n",
    "plt.axvline(df['rand'].mean() + df['rand'].std(), color = 'red', linestyle = 'dashed', linewidth = 2)\n",
    "\n",
    "# adding a vertical line one standard deviation below the mean.\n",
    "plt.axvline(df['rand'].mean() - df['rand'].std(), color = 'red', linestyle = 'dashed', linewidth = 2)\n",
    "\n",
    "plt.show()\n"
   ]
  },
  {
   "cell_type": "markdown",
   "metadata": {},
   "source": [
    "**Conclusion:-** _The mean is at the center of the data cluster, and distribution is normal on each side of the mean._"
   ]
  }
 ],
 "metadata": {
  "kernelspec": {
   "display_name": "Python 3",
   "language": "python",
   "name": "python3"
  },
  "language_info": {
   "codemirror_mode": {
    "name": "ipython",
    "version": 3
   },
   "file_extension": ".py",
   "mimetype": "text/x-python",
   "name": "python",
   "nbconvert_exporter": "python",
   "pygments_lexer": "ipython3",
   "version": "3.6.1"
  }
 },
 "nbformat": 4,
 "nbformat_minor": 2
}
