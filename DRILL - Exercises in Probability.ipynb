{
 "cells": [
  {
   "cell_type": "markdown",
   "metadata": {},
   "source": [
    "Now it’s time to compute some probabilities. Keep track of your work in a Google document or markdown file that you can share with your mentor.\n",
    "\n",
    "**1)Calculate the probability of flipping a balanced coin four times and getting each pattern: HTTH, HHHH and TTHH.**\n",
    "\n",
    "    probability of getting head or tail is 1/2.\n",
    "    so pattern like HTTH or HHHH or TTHH = 1/2 * 1/2 * 1/2 * 1/2 = 1/16\n",
    "\n",
    "**2)If a list of people has 24 women and 21 men, then the probability of choosing a man from the list is 21/45. What is the probability of not choosing a man?**\n",
    "\n",
    "    probability of not choosing a man = probability of choosing a women = 24/45.\n",
    "\n",
    "**3)The probability that Bernice will travel by plane sometime in the next year is 10%. The probability of a plane crash at any time is .005%. What is the probability that Bernice will be in a plane crash sometime in the next year?**\n",
    "\n",
    "    probability that Bernice will be in a plan crash sometime in the next year  = 0.1 * 0.005 = .0005 = 0.05%\n",
    "\n",
    "**4)A data scientist wants to study the behavior of users on the company website. Each time a user clicks on a link on the website, there is a 5% chance that the user will be asked to complete a short survey about their behavior on the website. The data scientist uses the survey data to conclude that, on average, users spend 15 minutes surfing the company website before moving on to other things. What is wrong with this conclusion?**\n",
    "    \n",
    "    Answer: Only 5% of the users will be asked to complete the short survey but out of those 5% how many are actually completing the survey is missed by scientist. Nonresponse bias is the problem. The sample is too small to conclude.\n"
   ]
  }
 ],
 "metadata": {
  "kernelspec": {
   "display_name": "Python 3",
   "language": "python",
   "name": "python3"
  },
  "language_info": {
   "codemirror_mode": {
    "name": "ipython",
    "version": 3
   },
   "file_extension": ".py",
   "mimetype": "text/x-python",
   "name": "python",
   "nbconvert_exporter": "python",
   "pygments_lexer": "ipython3",
   "version": "3.6.1"
  }
 },
 "nbformat": 4,
 "nbformat_minor": 2
}
